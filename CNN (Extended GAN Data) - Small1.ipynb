{
 "cells": [
  {
   "cell_type": "markdown",
   "metadata": {},
   "source": [
    "## Data analysis"
   ]
  },
  {
   "cell_type": "code",
   "execution_count": 1,
   "metadata": {},
   "outputs": [
    {
     "name": "stdout",
     "output_type": "stream",
     "text": [
      "Files already downloaded and verified\n",
      "Files already downloaded and verified\n"
     ]
    },
    {
     "data": {
      "text/plain": [
       "963"
      ]
     },
     "execution_count": 1,
     "metadata": {},
     "output_type": "execute_result"
    }
   ],
   "source": [
    "from torchvision.datasets import Omniglot\n",
    "omniglot = Omniglot(root=\"./data\", download=True)\n",
    "omniglot.download()\n",
    "\n",
    "alldata = []\n",
    "for i in omniglot:\n",
    "    alldata.append(i[1])\n",
    "    \n",
    "max(alldata)"
   ]
  },
  {
   "cell_type": "markdown",
   "metadata": {},
   "source": [
    "All images are have 105 by 105 pixels"
   ]
  },
  {
   "cell_type": "code",
   "execution_count": 2,
   "metadata": {},
   "outputs": [
    {
     "name": "stdout",
     "output_type": "stream",
     "text": [
      "(<PIL.Image.Image image mode=L size=105x105 at 0x7FA5A065AA20>, 15)\n"
     ]
    }
   ],
   "source": [
    "image = omniglot.__getitem__(300)\n",
    "print(image)\n",
    "\n",
    "import matplotlib.pyplot as plt\n",
    "\n",
    "imgplot = plt.imshow(image[0])\n",
    "# image[0].getdata()"
   ]
  },
  {
   "cell_type": "markdown",
   "metadata": {},
   "source": [
    "Lets plot a histogram of the image pixel count to see the range of pixels"
   ]
  },
  {
   "cell_type": "code",
   "execution_count": 3,
   "metadata": {},
   "outputs": [
    {
     "data": {
      "text/plain": [
       "(array([  469.,     0.,     0.,     0.,     0.,     0.,     0.,     0.,\n",
       "            0.,     0.,     0.,     0.,     0.,     0.,     0.,     0.,\n",
       "            0.,     0.,     0.,     0.,     0.,     0.,     0.,     0.,\n",
       "            0.,     0.,     0.,     0.,     0.,     0.,     0.,     0.,\n",
       "            0.,     0.,     0.,     0.,     0.,     0.,     0.,     0.,\n",
       "            0.,     0.,     0.,     0.,     0.,     0.,     0.,     0.,\n",
       "            0.,     0.,     0.,     0.,     0.,     0.,     0.,     0.,\n",
       "            0.,     0.,     0.,     0.,     0.,     0.,     0.,     0.,\n",
       "            0.,     0.,     0.,     0.,     0.,     0.,     0.,     0.,\n",
       "            0.,     0.,     0.,     0.,     0.,     0.,     0.,     0.,\n",
       "            0.,     0.,     0.,     0.,     0.,     0.,     0.,     0.,\n",
       "            0.,     0.,     0.,     0.,     0.,     0.,     0.,     0.,\n",
       "            0.,     0.,     0.,     0.,     0.,     0.,     0.,     0.,\n",
       "            0.,     0.,     0.,     0.,     0.,     0.,     0.,     0.,\n",
       "            0.,     0.,     0.,     0.,     0.,     0.,     0.,     0.,\n",
       "            0.,     0.,     0.,     0.,     0.,     0.,     0.,     0.,\n",
       "            0.,     0.,     0.,     0.,     0.,     0.,     0.,     0.,\n",
       "            0.,     0.,     0.,     0.,     0.,     0.,     0.,     0.,\n",
       "            0.,     0.,     0.,     0.,     0.,     0.,     0.,     0.,\n",
       "            0.,     0.,     0.,     0.,     0.,     0.,     0.,     0.,\n",
       "            0.,     0.,     0.,     0.,     0.,     0.,     0.,     0.,\n",
       "            0.,     0.,     0.,     0.,     0.,     0.,     0.,     0.,\n",
       "            0.,     0.,     0.,     0.,     0.,     0.,     0.,     0.,\n",
       "            0.,     0.,     0.,     0.,     0.,     0.,     0.,     0.,\n",
       "            0.,     0.,     0.,     0.,     0.,     0.,     0.,     0.,\n",
       "            0.,     0.,     0.,     0.,     0.,     0.,     0.,     0.,\n",
       "            0.,     0.,     0.,     0.,     0.,     0.,     0.,     0.,\n",
       "            0.,     0.,     0.,     0.,     0.,     0.,     0.,     0.,\n",
       "            0.,     0.,     0.,     0.,     0.,     0.,     0.,     0.,\n",
       "            0.,     0.,     0.,     0.,     0.,     0.,     0.,     0.,\n",
       "            0.,     0.,     0.,     0.,     0.,     0.,     0.,     0.,\n",
       "            0.,     0.,     0.,     0.,     0.,     0.,     0., 10556.]),\n",
       " array([  0.        ,   0.99609375,   1.9921875 ,   2.98828125,\n",
       "          3.984375  ,   4.98046875,   5.9765625 ,   6.97265625,\n",
       "          7.96875   ,   8.96484375,   9.9609375 ,  10.95703125,\n",
       "         11.953125  ,  12.94921875,  13.9453125 ,  14.94140625,\n",
       "         15.9375    ,  16.93359375,  17.9296875 ,  18.92578125,\n",
       "         19.921875  ,  20.91796875,  21.9140625 ,  22.91015625,\n",
       "         23.90625   ,  24.90234375,  25.8984375 ,  26.89453125,\n",
       "         27.890625  ,  28.88671875,  29.8828125 ,  30.87890625,\n",
       "         31.875     ,  32.87109375,  33.8671875 ,  34.86328125,\n",
       "         35.859375  ,  36.85546875,  37.8515625 ,  38.84765625,\n",
       "         39.84375   ,  40.83984375,  41.8359375 ,  42.83203125,\n",
       "         43.828125  ,  44.82421875,  45.8203125 ,  46.81640625,\n",
       "         47.8125    ,  48.80859375,  49.8046875 ,  50.80078125,\n",
       "         51.796875  ,  52.79296875,  53.7890625 ,  54.78515625,\n",
       "         55.78125   ,  56.77734375,  57.7734375 ,  58.76953125,\n",
       "         59.765625  ,  60.76171875,  61.7578125 ,  62.75390625,\n",
       "         63.75      ,  64.74609375,  65.7421875 ,  66.73828125,\n",
       "         67.734375  ,  68.73046875,  69.7265625 ,  70.72265625,\n",
       "         71.71875   ,  72.71484375,  73.7109375 ,  74.70703125,\n",
       "         75.703125  ,  76.69921875,  77.6953125 ,  78.69140625,\n",
       "         79.6875    ,  80.68359375,  81.6796875 ,  82.67578125,\n",
       "         83.671875  ,  84.66796875,  85.6640625 ,  86.66015625,\n",
       "         87.65625   ,  88.65234375,  89.6484375 ,  90.64453125,\n",
       "         91.640625  ,  92.63671875,  93.6328125 ,  94.62890625,\n",
       "         95.625     ,  96.62109375,  97.6171875 ,  98.61328125,\n",
       "         99.609375  , 100.60546875, 101.6015625 , 102.59765625,\n",
       "        103.59375   , 104.58984375, 105.5859375 , 106.58203125,\n",
       "        107.578125  , 108.57421875, 109.5703125 , 110.56640625,\n",
       "        111.5625    , 112.55859375, 113.5546875 , 114.55078125,\n",
       "        115.546875  , 116.54296875, 117.5390625 , 118.53515625,\n",
       "        119.53125   , 120.52734375, 121.5234375 , 122.51953125,\n",
       "        123.515625  , 124.51171875, 125.5078125 , 126.50390625,\n",
       "        127.5       , 128.49609375, 129.4921875 , 130.48828125,\n",
       "        131.484375  , 132.48046875, 133.4765625 , 134.47265625,\n",
       "        135.46875   , 136.46484375, 137.4609375 , 138.45703125,\n",
       "        139.453125  , 140.44921875, 141.4453125 , 142.44140625,\n",
       "        143.4375    , 144.43359375, 145.4296875 , 146.42578125,\n",
       "        147.421875  , 148.41796875, 149.4140625 , 150.41015625,\n",
       "        151.40625   , 152.40234375, 153.3984375 , 154.39453125,\n",
       "        155.390625  , 156.38671875, 157.3828125 , 158.37890625,\n",
       "        159.375     , 160.37109375, 161.3671875 , 162.36328125,\n",
       "        163.359375  , 164.35546875, 165.3515625 , 166.34765625,\n",
       "        167.34375   , 168.33984375, 169.3359375 , 170.33203125,\n",
       "        171.328125  , 172.32421875, 173.3203125 , 174.31640625,\n",
       "        175.3125    , 176.30859375, 177.3046875 , 178.30078125,\n",
       "        179.296875  , 180.29296875, 181.2890625 , 182.28515625,\n",
       "        183.28125   , 184.27734375, 185.2734375 , 186.26953125,\n",
       "        187.265625  , 188.26171875, 189.2578125 , 190.25390625,\n",
       "        191.25      , 192.24609375, 193.2421875 , 194.23828125,\n",
       "        195.234375  , 196.23046875, 197.2265625 , 198.22265625,\n",
       "        199.21875   , 200.21484375, 201.2109375 , 202.20703125,\n",
       "        203.203125  , 204.19921875, 205.1953125 , 206.19140625,\n",
       "        207.1875    , 208.18359375, 209.1796875 , 210.17578125,\n",
       "        211.171875  , 212.16796875, 213.1640625 , 214.16015625,\n",
       "        215.15625   , 216.15234375, 217.1484375 , 218.14453125,\n",
       "        219.140625  , 220.13671875, 221.1328125 , 222.12890625,\n",
       "        223.125     , 224.12109375, 225.1171875 , 226.11328125,\n",
       "        227.109375  , 228.10546875, 229.1015625 , 230.09765625,\n",
       "        231.09375   , 232.08984375, 233.0859375 , 234.08203125,\n",
       "        235.078125  , 236.07421875, 237.0703125 , 238.06640625,\n",
       "        239.0625    , 240.05859375, 241.0546875 , 242.05078125,\n",
       "        243.046875  , 244.04296875, 245.0390625 , 246.03515625,\n",
       "        247.03125   , 248.02734375, 249.0234375 , 250.01953125,\n",
       "        251.015625  , 252.01171875, 253.0078125 , 254.00390625,\n",
       "        255.        ]),\n",
       " <a list of 256 Patch objects>)"
      ]
     },
     "execution_count": 3,
     "metadata": {},
     "output_type": "execute_result"
    },
    {
     "data": {
      "image/png": "[encoded data removed]",
      "text/plain": [
       "<Figure size 432x288 with 1 Axes>"
      ]
     },
     "metadata": {},
     "output_type": "display_data"
    }
   ],
   "source": [
    "plt.hist(image[0].getdata(), bins=256)"
   ]
  },
  {
   "cell_type": "code",
   "execution_count": 4,
   "metadata": {},
   "outputs": [],
   "source": [
    "import torchvision.transforms as transforms\n",
    "import torch\n",
    "transform = transforms.Compose([\n",
    "        transforms.ToTensor(),\n",
    "        transforms.Normalize(mean=(0.5, 0.5, 0.5), std=(0.5, 0.5, 0.5))\n",
    "])\n",
    "\n",
    "BATCH_SIZE = 50\n",
    "\n",
    "from myomniglot import MyOmniglot\n",
    "\n",
    "setname = 'images_background_small1'\n",
    "\n",
    "dataset = MyOmniglot(root='./data_generated', setname=setname, transform=transform)\n",
    "train_size = int(0.8 * len(dataset))\n",
    "test_size = len(dataset) - train_size\n",
    "train_dataset, test_dataset = torch.utils.data.random_split(dataset, [train_size, test_size])\n",
    "\n",
    "train_loader = torch.utils.data.DataLoader(train_dataset, batch_size=BATCH_SIZE, shuffle=True)"
   ]
  },
  {
   "cell_type": "code",
   "execution_count": 5,
   "metadata": {},
   "outputs": [],
   "source": [
    "import matplotlib.pyplot as plt\n",
    "import numpy as np\n",
    "\n",
    "def imshow(img):\n",
    "    img = img / 2 + 0.5     # unnormalize\n",
    "    npimg = img.numpy()\n",
    "    plt.imshow(np.transpose(npimg, (1, 2, 0)))"
   ]
  },
  {
   "cell_type": "code",
   "execution_count": 6,
   "metadata": {},
   "outputs": [
    {
     "name": "stderr",
     "output_type": "stream",
     "text": [
      "/home/qweenink/.local/lib/python3.5/site-packages/ipykernel_launcher.py:49: UserWarning: nn.init.xavier_uniform is now deprecated in favor of nn.init.xavier_uniform_.\n"
     ]
    }
   ],
   "source": [
    "import torch.nn as nn\n",
    "import torch.nn.functional as F\n",
    "import math\n",
    "\n",
    "class Net(nn.Module):    \n",
    "    def __init__(self):\n",
    "        super(Net, self).__init__()\n",
    "          \n",
    "        self.features = nn.Sequential(\n",
    "            nn.Conv2d(1, 32, kernel_size=3, stride=1, padding=1),\n",
    "            nn.BatchNorm2d(32),\n",
    "            nn.ReLU(inplace=True),\n",
    "            nn.Conv2d(32, 32, kernel_size=3, stride=1, padding=1),\n",
    "            nn.BatchNorm2d(32),\n",
    "            nn.ReLU(inplace=True),\n",
    "            nn.MaxPool2d(kernel_size=2, stride=2),\n",
    "            nn.Conv2d(32, 64, kernel_size=3, padding=1),\n",
    "            nn.BatchNorm2d(64),\n",
    "            nn.ReLU(inplace=True),\n",
    "            nn.Conv2d(64, 64, kernel_size=3, padding=1),\n",
    "            nn.BatchNorm2d(64),\n",
    "            nn.ReLU(inplace=True),\n",
    "            nn.MaxPool2d(kernel_size=2, stride=2)\n",
    "        )\n",
    "          \n",
    "        self.classifier = nn.Sequential(\n",
    "            nn.Dropout(p = 0.5),\n",
    "            nn.Linear(43264, 512),\n",
    "            nn.BatchNorm1d(512),\n",
    "            nn.ReLU(inplace=True),\n",
    "            nn.Dropout(p = 0.5),\n",
    "            nn.Linear(512, 512),\n",
    "            nn.BatchNorm1d(512),\n",
    "            nn.ReLU(inplace=True),\n",
    "            nn.Dropout(p = 0.5),\n",
    "            nn.Linear(512, 136),\n",
    "        )\n",
    "          \n",
    "        for m in self.features.children():\n",
    "            if isinstance(m, nn.Conv2d):\n",
    "                n = m.kernel_size[0] * m.kernel_size[1] * m.out_channels\n",
    "                m.weight.data.normal_(0, math.sqrt(2. / n))\n",
    "            elif isinstance(m, nn.BatchNorm2d):\n",
    "                m.weight.data.fill_(1)\n",
    "                m.bias.data.zero_()\n",
    "        \n",
    "        for m in self.classifier.children():\n",
    "            if isinstance(m, nn.Linear):\n",
    "                nn.init.xavier_uniform(m.weight)\n",
    "            elif isinstance(m, nn.BatchNorm1d):\n",
    "                m.weight.data.fill_(1)\n",
    "                m.bias.data.zero_()\n",
    "                \n",
    "\n",
    "    def forward(self, x):\n",
    "        \n",
    "        x = self.features(x)\n",
    "        x = x.view(x.size(0), -1)\n",
    "        x = self.classifier(x)\n",
    "        \n",
    "        return x   \n",
    "\n",
    "net = Net()"
   ]
  },
  {
   "cell_type": "code",
   "execution_count": 7,
   "metadata": {},
   "outputs": [],
   "source": [
    "import torch.optim as optim\n",
    "\n",
    "criterion = nn.CrossEntropyLoss()\n",
    "optimizer = optim.Adam(net.parameters(), lr=0.0001)"
   ]
  },
  {
   "cell_type": "code",
   "execution_count": 8,
   "metadata": {},
   "outputs": [
    {
     "name": "stdout",
     "output_type": "stream",
     "text": [
      "[1,     1] loss: 5.693\n",
      "[1,    11] loss: 5.958\n",
      "[1,    21] loss: 5.792\n",
      "[1,    31] loss: 5.164\n",
      "[1,    41] loss: 5.215\n",
      "[2,     1] loss: 5.009\n",
      "[2,    11] loss: 4.951\n",
      "[2,    21] loss: 4.617\n",
      "[2,    31] loss: 5.134\n",
      "[2,    41] loss: 4.598\n",
      "[3,     1] loss: 4.579\n",
      "[3,    11] loss: 4.844\n",
      "[3,    21] loss: 4.764\n",
      "[3,    31] loss: 4.296\n",
      "[3,    41] loss: 4.526\n",
      "[4,     1] loss: 4.236\n",
      "[4,    11] loss: 4.428\n",
      "[4,    21] loss: 4.028\n",
      "[4,    31] loss: 4.442\n",
      "[4,    41] loss: 3.994\n",
      "[5,     1] loss: 3.962\n",
      "[5,    11] loss: 3.919\n",
      "[5,    21] loss: 3.525\n",
      "[5,    31] loss: 3.817\n",
      "[5,    41] loss: 4.017\n",
      "[6,     1] loss: 3.650\n",
      "[6,    11] loss: 3.825\n",
      "[6,    21] loss: 3.617\n",
      "[6,    31] loss: 3.871\n",
      "[6,    41] loss: 3.897\n",
      "[7,     1] loss: 3.096\n",
      "[7,    11] loss: 3.425\n",
      "[7,    21] loss: 3.783\n",
      "[7,    31] loss: 3.542\n",
      "[7,    41] loss: 3.329\n",
      "[8,     1] loss: 3.071\n",
      "[8,    11] loss: 3.218\n",
      "[8,    21] loss: 3.089\n",
      "[8,    31] loss: 3.252\n",
      "[8,    41] loss: 3.255\n",
      "[9,     1] loss: 2.693\n",
      "[9,    11] loss: 3.165\n",
      "[9,    21] loss: 2.997\n",
      "[9,    31] loss: 3.138\n",
      "[9,    41] loss: 2.747\n",
      "[10,     1] loss: 3.149\n",
      "[10,    11] loss: 2.965\n",
      "[10,    21] loss: 2.712\n",
      "[10,    31] loss: 2.845\n",
      "[10,    41] loss: 2.513\n",
      "[11,     1] loss: 3.040\n",
      "[11,    11] loss: 2.808\n",
      "[11,    21] loss: 2.399\n",
      "[11,    31] loss: 3.115\n",
      "[11,    41] loss: 2.634\n",
      "[12,     1] loss: 2.423\n",
      "[12,    11] loss: 2.344\n",
      "[12,    21] loss: 2.583\n",
      "[12,    31] loss: 2.171\n",
      "[12,    41] loss: 2.546\n",
      "[13,     1] loss: 2.635\n",
      "[13,    11] loss: 2.384\n",
      "[13,    21] loss: 1.934\n",
      "[13,    31] loss: 2.330\n",
      "[13,    41] loss: 2.088\n",
      "[14,     1] loss: 2.242\n",
      "[14,    11] loss: 2.231\n",
      "[14,    21] loss: 2.265\n",
      "[14,    31] loss: 2.201\n",
      "[14,    41] loss: 2.256\n",
      "[15,     1] loss: 2.474\n",
      "[15,    11] loss: 2.349\n",
      "[15,    21] loss: 2.025\n",
      "[15,    31] loss: 1.986\n",
      "[15,    41] loss: 2.014\n",
      "[16,     1] loss: 1.780\n",
      "[16,    11] loss: 1.831\n",
      "[16,    21] loss: 1.936\n",
      "[16,    31] loss: 1.936\n",
      "[16,    41] loss: 1.984\n",
      "[17,     1] loss: 1.897\n",
      "[17,    11] loss: 1.558\n",
      "[17,    21] loss: 2.189\n",
      "[17,    31] loss: 1.950\n",
      "[17,    41] loss: 1.841\n",
      "[18,     1] loss: 1.628\n",
      "[18,    11] loss: 1.490\n",
      "[18,    21] loss: 1.808\n",
      "[18,    31] loss: 1.697\n",
      "[18,    41] loss: 2.013\n",
      "[19,     1] loss: 1.746\n",
      "[19,    11] loss: 1.601\n",
      "[19,    21] loss: 1.647\n",
      "[19,    31] loss: 1.449\n",
      "[19,    41] loss: 1.560\n",
      "[20,     1] loss: 1.579\n",
      "[20,    11] loss: 1.915\n",
      "[20,    21] loss: 1.385\n",
      "[20,    31] loss: 1.789\n",
      "[20,    41] loss: 1.523\n",
      "[21,     1] loss: 1.626\n",
      "[21,    11] loss: 1.449\n",
      "[21,    21] loss: 1.503\n",
      "[21,    31] loss: 1.433\n",
      "[21,    41] loss: 1.458\n",
      "[22,     1] loss: 1.503\n",
      "[22,    11] loss: 1.183\n"
     ]
    },
    {
     "ename": "KeyboardInterrupt",
     "evalue": "",
     "output_type": "error",
     "traceback": [
      "\u001b[0;31m---------------------------------------------------------------------------\u001b[0m",
      "\u001b[0;31mKeyboardInterrupt\u001b[0m                         Traceback (most recent call last)",
      "\u001b[0;32m<ipython-input-8-fdf425b82625>\u001b[0m in \u001b[0;36m<module>\u001b[0;34m()\u001b[0m\n\u001b[1;32m     18\u001b[0m \u001b[0;34m\u001b[0m\u001b[0m\n\u001b[1;32m     19\u001b[0m         \u001b[0;31m# forward + backward + optimize\u001b[0m\u001b[0;34m\u001b[0m\u001b[0;34m\u001b[0m\u001b[0m\n\u001b[0;32m---> 20\u001b[0;31m         \u001b[0moutputs\u001b[0m \u001b[0;34m=\u001b[0m \u001b[0mnet\u001b[0m\u001b[0;34m(\u001b[0m\u001b[0minputs\u001b[0m\u001b[0;34m)\u001b[0m\u001b[0;34m\u001b[0m\u001b[0m\n\u001b[0m\u001b[1;32m     21\u001b[0m         \u001b[0mloss\u001b[0m \u001b[0;34m=\u001b[0m \u001b[0mcriterion\u001b[0m\u001b[0;34m(\u001b[0m\u001b[0moutputs\u001b[0m\u001b[0;34m,\u001b[0m \u001b[0mlabels\u001b[0m\u001b[0;34m)\u001b[0m\u001b[0;34m\u001b[0m\u001b[0m\n\u001b[1;32m     22\u001b[0m         \u001b[0mloss\u001b[0m\u001b[0;34m.\u001b[0m\u001b[0mbackward\u001b[0m\u001b[0;34m(\u001b[0m\u001b[0;34m)\u001b[0m\u001b[0;34m\u001b[0m\u001b[0m\n",
      "\u001b[0;32m/usr/local/lib/python3.5/dist-packages/torch/nn/modules/module.py\u001b[0m in \u001b[0;36m__call__\u001b[0;34m(self, *input, **kwargs)\u001b[0m\n\u001b[1;32m    475\u001b[0m             \u001b[0mresult\u001b[0m \u001b[0;34m=\u001b[0m \u001b[0mself\u001b[0m\u001b[0;34m.\u001b[0m\u001b[0m_slow_forward\u001b[0m\u001b[0;34m(\u001b[0m\u001b[0;34m*\u001b[0m\u001b[0minput\u001b[0m\u001b[0;34m,\u001b[0m \u001b[0;34m**\u001b[0m\u001b[0mkwargs\u001b[0m\u001b[0;34m)\u001b[0m\u001b[0;34m\u001b[0m\u001b[0m\n\u001b[1;32m    476\u001b[0m         \u001b[0;32melse\u001b[0m\u001b[0;34m:\u001b[0m\u001b[0;34m\u001b[0m\u001b[0m\n\u001b[0;32m--> 477\u001b[0;31m             \u001b[0mresult\u001b[0m \u001b[0;34m=\u001b[0m \u001b[0mself\u001b[0m\u001b[0;34m.\u001b[0m\u001b[0mforward\u001b[0m\u001b[0;34m(\u001b[0m\u001b[0;34m*\u001b[0m\u001b[0minput\u001b[0m\u001b[0;34m,\u001b[0m \u001b[0;34m**\u001b[0m\u001b[0mkwargs\u001b[0m\u001b[0;34m)\u001b[0m\u001b[0;34m\u001b[0m\u001b[0m\n\u001b[0m\u001b[1;32m    478\u001b[0m         \u001b[0;32mfor\u001b[0m \u001b[0mhook\u001b[0m \u001b[0;32min\u001b[0m \u001b[0mself\u001b[0m\u001b[0;34m.\u001b[0m\u001b[0m_forward_hooks\u001b[0m\u001b[0;34m.\u001b[0m\u001b[0mvalues\u001b[0m\u001b[0;34m(\u001b[0m\u001b[0;34m)\u001b[0m\u001b[0;34m:\u001b[0m\u001b[0;34m\u001b[0m\u001b[0m\n\u001b[1;32m    479\u001b[0m             \u001b[0mhook_result\u001b[0m \u001b[0;34m=\u001b[0m \u001b[0mhook\u001b[0m\u001b[0;34m(\u001b[0m\u001b[0mself\u001b[0m\u001b[0;34m,\u001b[0m \u001b[0minput\u001b[0m\u001b[0;34m,\u001b[0m \u001b[0mresult\u001b[0m\u001b[0;34m)\u001b[0m\u001b[0;34m\u001b[0m\u001b[0m\n",
      "\u001b[0;32m<ipython-input-6-41c6db9332c3>\u001b[0m in \u001b[0;36mforward\u001b[0;34m(self, x)\u001b[0m\n\u001b[1;32m     55\u001b[0m     \u001b[0;32mdef\u001b[0m \u001b[0mforward\u001b[0m\u001b[0;34m(\u001b[0m\u001b[0mself\u001b[0m\u001b[0;34m,\u001b[0m \u001b[0mx\u001b[0m\u001b[0;34m)\u001b[0m\u001b[0;34m:\u001b[0m\u001b[0;34m\u001b[0m\u001b[0m\n\u001b[1;32m     56\u001b[0m \u001b[0;34m\u001b[0m\u001b[0m\n\u001b[0;32m---> 57\u001b[0;31m         \u001b[0mx\u001b[0m \u001b[0;34m=\u001b[0m \u001b[0mself\u001b[0m\u001b[0;34m.\u001b[0m\u001b[0mfeatures\u001b[0m\u001b[0;34m(\u001b[0m\u001b[0mx\u001b[0m\u001b[0;34m)\u001b[0m\u001b[0;34m\u001b[0m\u001b[0m\n\u001b[0m\u001b[1;32m     58\u001b[0m         \u001b[0mx\u001b[0m \u001b[0;34m=\u001b[0m \u001b[0mx\u001b[0m\u001b[0;34m.\u001b[0m\u001b[0mview\u001b[0m\u001b[0;34m(\u001b[0m\u001b[0mx\u001b[0m\u001b[0;34m.\u001b[0m\u001b[0msize\u001b[0m\u001b[0;34m(\u001b[0m\u001b[0;36m0\u001b[0m\u001b[0;34m)\u001b[0m\u001b[0;34m,\u001b[0m \u001b[0;34m-\u001b[0m\u001b[0;36m1\u001b[0m\u001b[0;34m)\u001b[0m\u001b[0;34m\u001b[0m\u001b[0m\n\u001b[1;32m     59\u001b[0m         \u001b[0mx\u001b[0m \u001b[0;34m=\u001b[0m \u001b[0mself\u001b[0m\u001b[0;34m.\u001b[0m\u001b[0mclassifier\u001b[0m\u001b[0;34m(\u001b[0m\u001b[0mx\u001b[0m\u001b[0;34m)\u001b[0m\u001b[0;34m\u001b[0m\u001b[0m\n",
      "\u001b[0;32m/usr/local/lib/python3.5/dist-packages/torch/nn/modules/module.py\u001b[0m in \u001b[0;36m__call__\u001b[0;34m(self, *input, **kwargs)\u001b[0m\n\u001b[1;32m    475\u001b[0m             \u001b[0mresult\u001b[0m \u001b[0;34m=\u001b[0m \u001b[0mself\u001b[0m\u001b[0;34m.\u001b[0m\u001b[0m_slow_forward\u001b[0m\u001b[0;34m(\u001b[0m\u001b[0;34m*\u001b[0m\u001b[0minput\u001b[0m\u001b[0;34m,\u001b[0m \u001b[0;34m**\u001b[0m\u001b[0mkwargs\u001b[0m\u001b[0;34m)\u001b[0m\u001b[0;34m\u001b[0m\u001b[0m\n\u001b[1;32m    476\u001b[0m         \u001b[0;32melse\u001b[0m\u001b[0;34m:\u001b[0m\u001b[0;34m\u001b[0m\u001b[0m\n\u001b[0;32m--> 477\u001b[0;31m             \u001b[0mresult\u001b[0m \u001b[0;34m=\u001b[0m \u001b[0mself\u001b[0m\u001b[0;34m.\u001b[0m\u001b[0mforward\u001b[0m\u001b[0;34m(\u001b[0m\u001b[0;34m*\u001b[0m\u001b[0minput\u001b[0m\u001b[0;34m,\u001b[0m \u001b[0;34m**\u001b[0m\u001b[0mkwargs\u001b[0m\u001b[0;34m)\u001b[0m\u001b[0;34m\u001b[0m\u001b[0m\n\u001b[0m\u001b[1;32m    478\u001b[0m         \u001b[0;32mfor\u001b[0m \u001b[0mhook\u001b[0m \u001b[0;32min\u001b[0m \u001b[0mself\u001b[0m\u001b[0;34m.\u001b[0m\u001b[0m_forward_hooks\u001b[0m\u001b[0;34m.\u001b[0m\u001b[0mvalues\u001b[0m\u001b[0;34m(\u001b[0m\u001b[0;34m)\u001b[0m\u001b[0;34m:\u001b[0m\u001b[0;34m\u001b[0m\u001b[0m\n\u001b[1;32m    479\u001b[0m             \u001b[0mhook_result\u001b[0m \u001b[0;34m=\u001b[0m \u001b[0mhook\u001b[0m\u001b[0;34m(\u001b[0m\u001b[0mself\u001b[0m\u001b[0;34m,\u001b[0m \u001b[0minput\u001b[0m\u001b[0;34m,\u001b[0m \u001b[0mresult\u001b[0m\u001b[0;34m)\u001b[0m\u001b[0;34m\u001b[0m\u001b[0m\n",
      "\u001b[0;32m/usr/local/lib/python3.5/dist-packages/torch/nn/modules/container.py\u001b[0m in \u001b[0;36mforward\u001b[0;34m(self, input)\u001b[0m\n\u001b[1;32m     89\u001b[0m     \u001b[0;32mdef\u001b[0m \u001b[0mforward\u001b[0m\u001b[0;34m(\u001b[0m\u001b[0mself\u001b[0m\u001b[0;34m,\u001b[0m \u001b[0minput\u001b[0m\u001b[0;34m)\u001b[0m\u001b[0;34m:\u001b[0m\u001b[0;34m\u001b[0m\u001b[0m\n\u001b[1;32m     90\u001b[0m         \u001b[0;32mfor\u001b[0m \u001b[0mmodule\u001b[0m \u001b[0;32min\u001b[0m \u001b[0mself\u001b[0m\u001b[0;34m.\u001b[0m\u001b[0m_modules\u001b[0m\u001b[0;34m.\u001b[0m\u001b[0mvalues\u001b[0m\u001b[0;34m(\u001b[0m\u001b[0;34m)\u001b[0m\u001b[0;34m:\u001b[0m\u001b[0;34m\u001b[0m\u001b[0m\n\u001b[0;32m---> 91\u001b[0;31m             \u001b[0minput\u001b[0m \u001b[0;34m=\u001b[0m \u001b[0mmodule\u001b[0m\u001b[0;34m(\u001b[0m\u001b[0minput\u001b[0m\u001b[0;34m)\u001b[0m\u001b[0;34m\u001b[0m\u001b[0m\n\u001b[0m\u001b[1;32m     92\u001b[0m         \u001b[0;32mreturn\u001b[0m \u001b[0minput\u001b[0m\u001b[0;34m\u001b[0m\u001b[0m\n\u001b[1;32m     93\u001b[0m \u001b[0;34m\u001b[0m\u001b[0m\n",
      "\u001b[0;32m/usr/local/lib/python3.5/dist-packages/torch/nn/modules/module.py\u001b[0m in \u001b[0;36m__call__\u001b[0;34m(self, *input, **kwargs)\u001b[0m\n\u001b[1;32m    475\u001b[0m             \u001b[0mresult\u001b[0m \u001b[0;34m=\u001b[0m \u001b[0mself\u001b[0m\u001b[0;34m.\u001b[0m\u001b[0m_slow_forward\u001b[0m\u001b[0;34m(\u001b[0m\u001b[0;34m*\u001b[0m\u001b[0minput\u001b[0m\u001b[0;34m,\u001b[0m \u001b[0;34m**\u001b[0m\u001b[0mkwargs\u001b[0m\u001b[0;34m)\u001b[0m\u001b[0;34m\u001b[0m\u001b[0m\n\u001b[1;32m    476\u001b[0m         \u001b[0;32melse\u001b[0m\u001b[0;34m:\u001b[0m\u001b[0;34m\u001b[0m\u001b[0m\n\u001b[0;32m--> 477\u001b[0;31m             \u001b[0mresult\u001b[0m \u001b[0;34m=\u001b[0m \u001b[0mself\u001b[0m\u001b[0;34m.\u001b[0m\u001b[0mforward\u001b[0m\u001b[0;34m(\u001b[0m\u001b[0;34m*\u001b[0m\u001b[0minput\u001b[0m\u001b[0;34m,\u001b[0m \u001b[0;34m**\u001b[0m\u001b[0mkwargs\u001b[0m\u001b[0;34m)\u001b[0m\u001b[0;34m\u001b[0m\u001b[0m\n\u001b[0m\u001b[1;32m    478\u001b[0m         \u001b[0;32mfor\u001b[0m \u001b[0mhook\u001b[0m \u001b[0;32min\u001b[0m \u001b[0mself\u001b[0m\u001b[0;34m.\u001b[0m\u001b[0m_forward_hooks\u001b[0m\u001b[0;34m.\u001b[0m\u001b[0mvalues\u001b[0m\u001b[0;34m(\u001b[0m\u001b[0;34m)\u001b[0m\u001b[0;34m:\u001b[0m\u001b[0;34m\u001b[0m\u001b[0m\n\u001b[1;32m    479\u001b[0m             \u001b[0mhook_result\u001b[0m \u001b[0;34m=\u001b[0m \u001b[0mhook\u001b[0m\u001b[0;34m(\u001b[0m\u001b[0mself\u001b[0m\u001b[0;34m,\u001b[0m \u001b[0minput\u001b[0m\u001b[0;34m,\u001b[0m \u001b[0mresult\u001b[0m\u001b[0;34m)\u001b[0m\u001b[0;34m\u001b[0m\u001b[0m\n",
      "\u001b[0;32m/usr/local/lib/python3.5/dist-packages/torch/nn/modules/conv.py\u001b[0m in \u001b[0;36mforward\u001b[0;34m(self, input)\u001b[0m\n\u001b[1;32m    299\u001b[0m     \u001b[0;32mdef\u001b[0m \u001b[0mforward\u001b[0m\u001b[0;34m(\u001b[0m\u001b[0mself\u001b[0m\u001b[0;34m,\u001b[0m \u001b[0minput\u001b[0m\u001b[0;34m)\u001b[0m\u001b[0;34m:\u001b[0m\u001b[0;34m\u001b[0m\u001b[0m\n\u001b[1;32m    300\u001b[0m         return F.conv2d(input, self.weight, self.bias, self.stride,\n\u001b[0;32m--> 301\u001b[0;31m                         self.padding, self.dilation, self.groups)\n\u001b[0m\u001b[1;32m    302\u001b[0m \u001b[0;34m\u001b[0m\u001b[0m\n\u001b[1;32m    303\u001b[0m \u001b[0;34m\u001b[0m\u001b[0m\n",
      "\u001b[0;31mKeyboardInterrupt\u001b[0m: "
     ]
    }
   ],
   "source": [
    "ENABLE_CUDA = False\n",
    "\n",
    "if ENABLE_CUDA:\n",
    "    net.cuda()\n",
    "    \n",
    "loss = None\n",
    "for epoch in range(100):  # loop over the dataset multiple times\n",
    "\n",
    "    running_loss = 0.0\n",
    "    for i, data in enumerate(train_loader, 0):\n",
    "        # get the inputs\n",
    "        inputs, labels = data\n",
    "        if ENABLE_CUDA:\n",
    "            inputs, labels = inputs.cuda(), labels.cuda()\n",
    "\n",
    "        # zero the parameter gradients\n",
    "        optimizer.zero_grad()\n",
    "\n",
    "        # forward + backward + optimize\n",
    "        outputs = net(inputs)\n",
    "        loss = criterion(outputs, labels)\n",
    "        loss.backward()\n",
    "        optimizer.step()\n",
    "\n",
    "        # print statistics\n",
    "        running_loss += loss.item()\n",
    "        if i % 10 == 0:    # print every 2000 mini-batches\n",
    "            print('[%d, %5d] loss: %.3f' %\n",
    "                  (epoch + 1, i + 1, loss.item()))\n",
    "            running_loss = 0.0\n",
    "\n",
    "print('Finished Training')"
   ]
  },
  {
   "cell_type": "code",
   "execution_count": 9,
   "metadata": {},
   "outputs": [
    {
     "name": "stderr",
     "output_type": "stream",
     "text": [
      "/usr/local/lib/python3.5/dist-packages/torch/serialization.py:241: UserWarning: Couldn't retrieve source code for container of type Net. It won't be checked for correctness upon loading.\n",
      "  \"type \" + obj.__name__ + \". It won't be checked \"\n"
     ]
    }
   ],
   "source": [
    "torch.save(net, 'cnn_extended.pt')"
   ]
  },
  {
   "cell_type": "code",
   "execution_count": 10,
   "metadata": {},
   "outputs": [
    {
     "name": "stdout",
     "output_type": "stream",
     "text": [
      "accuracy:  0.8143382352941176\n"
     ]
    }
   ],
   "source": [
    "train_size = len(train_dataset)\n",
    "train_loader = torch.utils.data.DataLoader(train_dataset, batch_size=100)\n",
    "\n",
    "correct = 0\n",
    "for i, (images, labels) in enumerate(train_loader):\n",
    "    if ENABLE_CUDA:\n",
    "        images, labels = images.cuda(), labels.cuda()\n",
    "    results = net(images)\n",
    "    results = results.detach().cpu().numpy()\n",
    "    for i, result in enumerate(results):\n",
    "        if np.argmax(result) == labels[i]:\n",
    "            correct += 1\n",
    "        \n",
    "print(\"accuracy: \", correct/train_size)"
   ]
  },
  {
   "cell_type": "code",
   "execution_count": 11,
   "metadata": {},
   "outputs": [
    {
     "name": "stdout",
     "output_type": "stream",
     "text": [
      "accuracy:  0.2702205882352941\n"
     ]
    }
   ],
   "source": [
    "test_size = 0\n",
    "test_loader = torch.utils.data.DataLoader(test_dataset, batch_size=100)\n",
    "\n",
    "correct = 0\n",
    "for i, (images, labels) in enumerate(test_loader):\n",
    "    test_size += len(images)\n",
    "    if ENABLE_CUDA:\n",
    "        images, labels = images.cuda(), labels.cuda()\n",
    "    results = net(images)\n",
    "    results = results.detach().cpu().numpy()\n",
    "    for i, result in enumerate(results):\n",
    "        if np.argmax(result) == labels[i]:\n",
    "            correct += 1\n",
    "        \n",
    "print(\"accuracy: \", correct/test_size)"
   ]
  },
  {
   "cell_type": "code",
   "execution_count": null,
   "metadata": {},
   "outputs": [],
   "source": []
  },
  {
   "cell_type": "code",
   "execution_count": null,
   "metadata": {},
   "outputs": [],
   "source": []
  }
 ],
 "metadata": {
  "kernelspec": {
   "display_name": "Python 3",
   "language": "python",
   "name": "python3"
  },
  "language_info": {
   "codemirror_mode": {
    "name": "ipython",
    "version": 3
   },
   "file_extension": ".py",
   "mimetype": "text/x-python",
   "name": "python",
   "nbconvert_exporter": "python",
   "pygments_lexer": "ipython3",
   "version": "3.5.2"
  }
 },
 "nbformat": 4,
 "nbformat_minor": 1
}
