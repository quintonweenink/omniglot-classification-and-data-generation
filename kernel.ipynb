{
 "cells": [
  {
   "cell_type": "code",
   "execution_count": 1,
   "metadata": {
    "_uuid": "8cf885db91fb2d0aa715a7a25325b7c08ccdc973"
   },
   "outputs": [],
   "source": [
    "%matplotlib inline"
   ]
  },
  {
   "cell_type": "code",
   "execution_count": 2,
   "metadata": {
    "_uuid": "233ad9cb1a73e64df4db3f441cd6096a9aeccd28"
   },
   "outputs": [],
   "source": [
    "import itertools\n",
    "import math\n",
    "import time\n",
    "\n",
    "import numpy as np\n",
    "import torch\n",
    "import torchvision\n",
    "import torch.nn as nn\n",
    "import torchvision.datasets as dsets\n",
    "import torchvision.transforms as transforms\n",
    "import matplotlib.pyplot as plt\n",
    "from IPython import display\n",
    "from torch.autograd import Variable"
   ]
  },
  {
   "cell_type": "markdown",
   "metadata": {
    "_uuid": "742eef3b7c7048faff7ff24e28b131c247bdd075"
   },
   "source": [
    "### Load Dataset"
   ]
  },
  {
   "cell_type": "code",
   "execution_count": 3,
   "metadata": {
    "_uuid": "3d4f29e3f129fbbc9f8c0e913372ad627f208930"
   },
   "outputs": [
    {
     "name": "stdout",
     "output_type": "stream",
     "text": [
      "Files already downloaded and verified\n"
     ]
    }
   ],
   "source": [
    "transform = transforms.Compose([\n",
    "        transforms.ToTensor(),\n",
    "        transforms.Normalize(mean=(0.5, 0.5, 0.5), std=(0.5, 0.5, 0.5))\n",
    "])\n",
    "\n",
    "BATCH_SIZE = 20\n",
    "\n",
    "train_dataset = dsets.Omniglot(root='./data/', download=True, transform=transform)\n",
    "train_loader = torch.utils.data.DataLoader(train_dataset, batch_size=BATCH_SIZE)\n",
    "\n",
    "# train_dataset = dsets.ImageFolder(root='../input/images_background/images_background', transform=transform)\n",
    "# train_loader = torch.utils.data.DataLoader(train_dataset, batch_size=BATCH_SIZE, shuffle=True)"
   ]
  },
  {
   "cell_type": "code",
   "execution_count": null,
   "metadata": {
    "_uuid": "e74edea43c5c9d79a0dcbdb5cfa9e1a071d47763"
   },
   "outputs": [],
   "source": []
  },
  {
   "cell_type": "markdown",
   "metadata": {
    "_uuid": "4e629239889f57ebf427b6f33f82ef8292c0c293"
   },
   "source": [
    "### Model"
   ]
  },
  {
   "cell_type": "code",
   "execution_count": 4,
   "metadata": {
    "_uuid": "b918145f0951ce7be75628fdcfd170442b458b85"
   },
   "outputs": [],
   "source": [
    "class Discriminator(nn.Module):\n",
    "    def __init__(self):\n",
    "        super().__init__()\n",
    "        self.model = nn.Sequential(\n",
    "            nn.Linear(105 * 105, 1024),\n",
    "            nn.LeakyReLU(0.2, inplace=True),\n",
    "            nn.Dropout(0.3),\n",
    "            nn.Linear(1024, 512),\n",
    "            nn.LeakyReLU(0.2, inplace=True),\n",
    "            nn.Dropout(0.3),\n",
    "            nn.Linear(512, 256),\n",
    "            nn.LeakyReLU(0.2, inplace=True),\n",
    "            nn.Dropout(0.3),\n",
    "            nn.Linear(256, 1),\n",
    "            nn.Sigmoid()\n",
    "        )\n",
    "    \n",
    "    def forward(self, x):\n",
    "        out = self.model(x.view(x.size(0), 105 * 105))\n",
    "        out = out.view(out.size(0), -1)\n",
    "        return out"
   ]
  },
  {
   "cell_type": "code",
   "execution_count": 5,
   "metadata": {
    "_uuid": "f2d44d40778f72f5477c2bfeda39d3100fb3cdbe"
   },
   "outputs": [],
   "source": [
    "class Generator(nn.Module):\n",
    "    def __init__(self):\n",
    "        super().__init__()\n",
    "        self.model = nn.Sequential(\n",
    "            nn.Linear(BATCH_SIZE, 256),\n",
    "            nn.LeakyReLU(0.2, inplace=True),\n",
    "            nn.Linear(256, 512),\n",
    "            nn.LeakyReLU(0.2, inplace=True),\n",
    "            nn.Linear(512, 1024),\n",
    "            nn.LeakyReLU(0.2, inplace=True),\n",
    "            nn.Linear(1024, 105 * 105),\n",
    "            nn.Tanh()\n",
    "        )\n",
    "    \n",
    "    def forward(self, x):\n",
    "        \n",
    "        x = x.view(x.size(0), BATCH_SIZE)\n",
    "        out = self.model(x)\n",
    "        return out"
   ]
  },
  {
   "cell_type": "markdown",
   "metadata": {
    "_uuid": "320763dfa4d23c1c606b0a46b65a2cd9a7325595"
   },
   "source": [
    "### Optimization"
   ]
  },
  {
   "cell_type": "markdown",
   "metadata": {
    "_uuid": "8ba3892f9cd87e3369414c261831a30c61590e34"
   },
   "source": [
    "### Training"
   ]
  },
  {
   "cell_type": "code",
   "execution_count": 6,
   "metadata": {
    "_uuid": "d8d9a52f114956fd8d0dfcdaf87814f12dd75478"
   },
   "outputs": [],
   "source": [
    "def train_discriminator(discriminator, images, real_labels, fake_images, fake_labels):\n",
    "    discriminator.zero_grad()\n",
    "    outputs = discriminator(images)\n",
    "    real_loss = criterion(outputs, real_labels)\n",
    "    real_score = outputs\n",
    "    \n",
    "    outputs = discriminator(fake_images) \n",
    "    fake_loss = criterion(outputs, fake_labels)\n",
    "    fake_score = outputs\n",
    "\n",
    "    d_loss = real_loss + fake_loss\n",
    "    d_loss.backward()\n",
    "    d_optimizer.step()\n",
    "    return d_loss, real_score, fake_score"
   ]
  },
  {
   "cell_type": "code",
   "execution_count": 7,
   "metadata": {
    "_uuid": "3de3d4cdc7c9d3039ceaa2205c4f09250a7a92eb"
   },
   "outputs": [],
   "source": [
    "def train_generator(generator, discriminator_outputs, real_labels):\n",
    "    generator.zero_grad()\n",
    "    g_loss = criterion(discriminator_outputs, real_labels)\n",
    "    g_loss.backward()\n",
    "    g_optimizer.step()\n",
    "    return g_loss"
   ]
  },
  {
   "cell_type": "code",
   "execution_count": 8,
   "metadata": {
    "_uuid": "dba8bda8d97e5b38890f16bb07ca99188d4c61b8"
   },
   "outputs": [],
   "source": [
    "# draw samples from the input distribution to inspect the generation on training \n",
    "num_test_samples = 25"
   ]
  },
  {
   "cell_type": "code",
   "execution_count": 9,
   "metadata": {
    "_uuid": "0546a7f6e5efa4e509dfd885c3c54b7ba755c41e",
    "scrolled": false
   },
   "outputs": [],
   "source": [
    "import os\n",
    "\n",
    "dirlist = []\n",
    "\n",
    "root = './generated/omniglot/python/images_background'\n",
    "\n",
    "for language in os.listdir(root):\n",
    "    for character in os.listdir(root + '/' + language):\n",
    "        characterDir = root + '/' + language + '/' + character\n",
    "        dirlist.append(characterDir)\n",
    "    "
   ]
  },
  {
   "cell_type": "code",
   "execution_count": null,
   "metadata": {
    "_uuid": "a8b919ed854cf39330c57710293dc28427909205",
    "scrolled": true
   },
   "outputs": [
    {
     "data": {
      "image/png": "[encoded data removed]",
      "text/plain": [
       "<Figure size 504x504 with 25 Axes>"
      ]
     },
     "metadata": {},
     "output_type": "display_data"
    },
    {
     "name": "stdout",
     "output_type": "stream",
     "text": [
      "Epoch [501/601], Step[5/964], d_loss: 0.4652, g_loss: 5.4414, D(x): 0.67, D(G(z)): 0.00\n"
     ]
    }
   ],
   "source": [
    "import scipy.misc\n",
    "\n",
    "# create figure for plotting\n",
    "size_figure_grid = int(math.sqrt(num_test_samples))\n",
    "fig, ax = plt.subplots(size_figure_grid, size_figure_grid, figsize=(7, 7))\n",
    "for i, j in itertools.product(range(size_figure_grid), range(size_figure_grid)):\n",
    "    ax[i,j].get_xaxis().set_visible(False)\n",
    "    ax[i,j].get_yaxis().set_visible(False)\n",
    "\n",
    "# set number of epochs and initialize figure counter\n",
    "num_epochs = 601\n",
    "num_batches = len(train_loader)\n",
    "num_fig = 0\n",
    "\n",
    "MINIBATCH_SIZE = 5\n",
    "lr = 0.0002\n",
    "\n",
    "for n, (characterSet, _) in enumerate(train_loader):\n",
    "    saveDir = dirlist[n]\n",
    "    \n",
    "    discriminator = Discriminator().cuda()\n",
    "    generator = Generator().cuda()\n",
    "    \n",
    "    criterion = nn.BCELoss()\n",
    "    d_optimizer = torch.optim.Adam(discriminator.parameters(), lr=lr)\n",
    "    g_optimizer = torch.optim.Adam(generator.parameters(), lr=lr)\n",
    "    \n",
    "    plt.imshow(characterSet[0][0].data.cpu().numpy().reshape(105, 105), cmap='Greys')\n",
    "\n",
    "    for epoch in range(num_epochs):\n",
    "        idx = torch.randperm(characterSet.size(0))[:MINIBATCH_SIZE]\n",
    "        images = Variable(characterSet[idx].cuda())\n",
    "        real_labels = Variable(torch.ones(images.size(0)).cuda())\n",
    "\n",
    "        # Sample from generator\n",
    "        noise = Variable(torch.randn(images.size(0), BATCH_SIZE).cuda())\n",
    "        fake_images = generator(noise)\n",
    "        fake_labels = Variable(torch.zeros(images.size(0)).cuda())\n",
    "\n",
    "        # Train the discriminator\n",
    "        d_loss, real_score, fake_score = train_discriminator(discriminator, images, real_labels, fake_images, fake_labels)\n",
    "\n",
    "        # Sample again from the generator and get output from discriminator\n",
    "        noise = Variable(torch.randn(images.size(0), BATCH_SIZE).cuda())\n",
    "        fake_images = generator(noise)\n",
    "        outputs = discriminator(fake_images)\n",
    "\n",
    "        # Train the generator\n",
    "        g_loss = train_generator(generator, outputs, real_labels)\n",
    "\n",
    "        if epoch % 100 == 0:\n",
    "            test_images = generator(Variable(torch.randn(num_test_samples, BATCH_SIZE).cuda()))\n",
    "            for k in range(num_test_samples):\n",
    "                i = k//5\n",
    "                j = k%5\n",
    "                ax[i,j].cla()\n",
    "                ax[i,j].imshow(test_images[k,:].data.cpu().numpy().reshape(105, 105), cmap='Greys')\n",
    "\n",
    "            display.clear_output(wait=True)\n",
    "            display.display(plt.gcf())\n",
    "\n",
    "            #plt.savefig('results/gan-%d.png'%epoch)\n",
    "            num_fig += 1\n",
    "            print('Epoch [%d/%d], Step[%d/%d], d_loss: %.4f, g_loss: %.4f, ' \n",
    "                  'D(x): %.2f, D(G(z)): %.2f' \n",
    "                  %(epoch + 1, num_epochs, n+1, num_batches, d_loss.data[0], g_loss.data[0],\n",
    "                    real_score.data.mean(), fake_score.data.mean()))\n",
    "            \n",
    "            \n",
    "            if epoch != 0 and epoch != 100 and epoch != 200:\n",
    "                for save in range(5):\n",
    "                    scipy.misc.toimage(test_images[save].cpu().detach().numpy().reshape(105, 105)).save(saveDir + '/' + 'generated' + str(int(epoch/100)) + '-' + str(save) + '.jpg')\n",
    "            \n",
    "            \n",
    "\n",
    "    #save someimages\n",
    "fig.close()"
   ]
  },
  {
   "cell_type": "code",
   "execution_count": null,
   "metadata": {
    "_uuid": "9aeb9a31349a0528dd02c721d58ff839adae40f4"
   },
   "outputs": [],
   "source": [
    "torch.save(generator, 'generator.pt')\n",
    "torch.save(discriminator, 'discriminator.pt')"
   ]
  },
  {
   "cell_type": "code",
   "execution_count": null,
   "metadata": {
    "_uuid": "acbc273b45d445c399365be165e9ebd78b423625"
   },
   "outputs": [],
   "source": [
    "size_figure_grid = int(math.sqrt(num_test_samples))\n",
    "fig, ax = plt.subplots(size_figure_grid, size_figure_grid, figsize=(6, 6))\n",
    "for i, j in itertools.product(range(size_figure_grid), range(size_figure_grid)):\n",
    "    ax[i,j].get_xaxis().set_visible(False)\n",
    "    ax[i,j].get_yaxis().set_visible(False)\n",
    "\n",
    "# set number of epochs and initialize figure counter\n",
    "num_epochs = 200\n",
    "num_batches = len(train_loader)\n",
    "num_fig = 0\n",
    "\n",
    "\n",
    "\n",
    "for n, (images, labels) in enumerate(train_loader):\n",
    "    test_images = generator(noise)\n",
    "    for k in range(num_test_samples):\n",
    "        i = k//4\n",
    "        j = k%4\n",
    "        ax[i,j].cla()\n",
    "        ax[i,j].imshow(test_images[k,:].data.cpu().numpy().reshape(105, 105), cmap='Greys')\n",
    "\n",
    "    display.clear_output(wait=True)\n",
    "    display.display(plt.gcf())\n",
    "    \n",
    "    break;"
   ]
  },
  {
   "cell_type": "code",
   "execution_count": null,
   "metadata": {
    "_uuid": "3e859be9c11b830651327e65cf7264d348ff3de4"
   },
   "outputs": [],
   "source": []
  },
  {
   "cell_type": "code",
   "execution_count": null,
   "metadata": {
    "_uuid": "879f8d993bb8621a5224a402b054a41964f58274"
   },
   "outputs": [],
   "source": []
  }
 ],
 "metadata": {
  "kernelspec": {
   "display_name": "Python 3",
   "language": "python",
   "name": "python3"
  },
  "language_info": {
   "codemirror_mode": {
    "name": "ipython",
    "version": 3
   },
   "file_extension": ".py",
   "mimetype": "text/x-python",
   "name": "python",
   "nbconvert_exporter": "python",
   "pygments_lexer": "ipython3",
   "version": "3.5.2"
  }
 },
 "nbformat": 4,
 "nbformat_minor": 1
}
